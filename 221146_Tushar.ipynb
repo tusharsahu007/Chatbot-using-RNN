{
  "nbformat": 4,
  "nbformat_minor": 0,
  "metadata": {
    "colab": {
      "provenance": []
    },
    "kernelspec": {
      "name": "python3",
      "display_name": "Python 3"
    },
    "language_info": {
      "name": "python"
    }
  },
  "cells": [
    {
      "cell_type": "code",
      "execution_count": 8,
      "metadata": {
        "id": "hqmCDzM07FYx"
      },
      "outputs": [],
      "source": [
        "import pickle\n",
        "import numpy as np\n",
        "\n",
        "from tensorflow.keras.preprocessing.sequence import pad_sequences\n",
        "from tensorflow.keras.preprocessing.text import Tokenizer\n",
        "from tensorflow.keras.models import Sequential, Model\n",
        "from tensorflow.keras.layers import Embedding\n",
        "from tensorflow.keras.layers import Input, Activation, Dense, Permute, Dropout\n",
        "from tensorflow.keras.layers import add, dot, concatenate\n",
        "from tensorflow.keras.layers import LSTM\n",
        "from tensorflow.keras.optimizers import RMSprop\n",
        "\n",
        "import math\n",
        "from tensorflow.keras.callbacks import ReduceLROnPlateau, EarlyStopping, ModelCheckpoint, LearningRateScheduler\n",
        "\n",
        "import matplotlib.pyplot as plt\n",
        "%matplotlib inline\n"
      ]
    },
    {
      "cell_type": "code",
      "source": [
        "with open(\"/content/train_qa.txt\", \"rb\") as fp:   # Unpickling, read-binary\n",
        "    train_data =  pickle.load(fp)\n",
        "\n",
        "with open(\"/content/test_qa.txt\", \"rb\") as fp:   # Unpickling\n",
        "    test_data =  pickle.load(fp)"
      ],
      "metadata": {
        "id": "yTpE-qdx7aqU"
      },
      "execution_count": 9,
      "outputs": []
    },
    {
      "cell_type": "code",
      "source": [
        "type(train_data), type(test_data)"
      ],
      "metadata": {
        "colab": {
          "base_uri": "https://localhost:8080/"
        },
        "id": "yCbfXAwM7s54",
        "outputId": "0c940ebf-c321-4407-f051-6d1e76a6a206"
      },
      "execution_count": 5,
      "outputs": [
        {
          "output_type": "execute_result",
          "data": {
            "text/plain": [
              "(list, list)"
            ]
          },
          "metadata": {},
          "execution_count": 5
        }
      ]
    },
    {
      "cell_type": "code",
      "source": [
        "len(train_data), len(test_data)"
      ],
      "metadata": {
        "colab": {
          "base_uri": "https://localhost:8080/"
        },
        "id": "XN0dqrJP7yVK",
        "outputId": "17d6854b-3279-4101-a730-a92b255b349a"
      },
      "execution_count": 12,
      "outputs": [
        {
          "output_type": "execute_result",
          "data": {
            "text/plain": [
              "(10000, 1000)"
            ]
          },
          "metadata": {},
          "execution_count": 12
        }
      ]
    },
    {
      "cell_type": "code",
      "source": [
        "train_data[0]"
      ],
      "metadata": {
        "colab": {
          "base_uri": "https://localhost:8080/"
        },
        "id": "VHLYLBrg71cH",
        "outputId": "b3f6c37e-07da-4554-cbed-9b9ed3afd115"
      },
      "execution_count": 11,
      "outputs": [
        {
          "output_type": "execute_result",
          "data": {
            "text/plain": [
              "(['Mary',\n",
              "  'moved',\n",
              "  'to',\n",
              "  'the',\n",
              "  'bathroom',\n",
              "  '.',\n",
              "  'Sandra',\n",
              "  'journeyed',\n",
              "  'to',\n",
              "  'the',\n",
              "  'bedroom',\n",
              "  '.'],\n",
              " ['Is', 'Sandra', 'in', 'the', 'hallway', '?'],\n",
              " 'no')"
            ]
          },
          "metadata": {},
          "execution_count": 11
        }
      ]
    },
    {
      "cell_type": "code",
      "source": [
        "test_data[0]"
      ],
      "metadata": {
        "colab": {
          "base_uri": "https://localhost:8080/"
        },
        "id": "2wXZnsdU8HnB",
        "outputId": "aa6c1228-8c4f-45b7-930c-693f3c7e0906"
      },
      "execution_count": 13,
      "outputs": [
        {
          "output_type": "execute_result",
          "data": {
            "text/plain": [
              "(['Mary',\n",
              "  'got',\n",
              "  'the',\n",
              "  'milk',\n",
              "  'there',\n",
              "  '.',\n",
              "  'John',\n",
              "  'moved',\n",
              "  'to',\n",
              "  'the',\n",
              "  'bedroom',\n",
              "  '.'],\n",
              " ['Is', 'John', 'in', 'the', 'kitchen', '?'],\n",
              " 'no')"
            ]
          },
          "metadata": {},
          "execution_count": 13
        }
      ]
    },
    {
      "cell_type": "code",
      "source": [
        "text=''\n",
        "print('Story:')\n",
        "for sent in train_data[99]:\n",
        "    if sent!='yes' and sent!='no':\n",
        "        for word in sent:\n",
        "            if (word!='.'):\n",
        "                if (word!='?'):\n",
        "                    text+= word + ' '\n",
        "                else:\n",
        "                    print()\n",
        "                    print('Question:', text[:-1]+word)\n",
        "                    print()\n",
        "            else:\n",
        "                print(text[:-1]+word)\n",
        "                text=''\n",
        "    else:\n",
        "        print('Answer:', sent)"
      ],
      "metadata": {
        "colab": {
          "base_uri": "https://localhost:8080/"
        },
        "id": "U0LnnTie8KB6",
        "outputId": "6272177e-4b09-4d90-f009-0d3a69d3ba25"
      },
      "execution_count": 14,
      "outputs": [
        {
          "output_type": "stream",
          "name": "stdout",
          "text": [
            "Story:\n",
            "Daniel grabbed the apple there.\n",
            "Daniel went to the bedroom.\n",
            "John moved to the garden.\n",
            "Sandra journeyed to the office.\n",
            "Daniel put down the apple.\n",
            "Mary went to the bedroom.\n",
            "Mary grabbed the apple there.\n",
            "Sandra went back to the garden.\n",
            "Mary went to the kitchen.\n",
            "Daniel went to the office.\n",
            "\n",
            "Question: Is Mary in the garden?\n",
            "\n",
            "Answer: no\n"
          ]
        }
      ]
    },
    {
      "cell_type": "code",
      "source": [
        "' '.join(train_data[0][0])"
      ],
      "metadata": {
        "colab": {
          "base_uri": "https://localhost:8080/",
          "height": 35
        },
        "id": "P4BA5CIW8ReH",
        "outputId": "1c6200c7-bf17-41bc-cb40-fafe8731bb43"
      },
      "execution_count": 15,
      "outputs": [
        {
          "output_type": "execute_result",
          "data": {
            "text/plain": [
              "'Mary moved to the bathroom . Sandra journeyed to the bedroom .'"
            ],
            "application/vnd.google.colaboratory.intrinsic+json": {
              "type": "string"
            }
          },
          "metadata": {},
          "execution_count": 15
        }
      ]
    },
    {
      "cell_type": "code",
      "source": [
        "' '.join(train_data[0][1])"
      ],
      "metadata": {
        "colab": {
          "base_uri": "https://localhost:8080/",
          "height": 35
        },
        "id": "77Mm7NnY8dd2",
        "outputId": "366f0199-3303-463e-82f0-c690a6fbb2d8"
      },
      "execution_count": 16,
      "outputs": [
        {
          "output_type": "execute_result",
          "data": {
            "text/plain": [
              "'Is Sandra in the hallway ?'"
            ],
            "application/vnd.google.colaboratory.intrinsic+json": {
              "type": "string"
            }
          },
          "metadata": {},
          "execution_count": 16
        }
      ]
    },
    {
      "cell_type": "code",
      "source": [
        "train_data[0][2]"
      ],
      "metadata": {
        "colab": {
          "base_uri": "https://localhost:8080/",
          "height": 35
        },
        "id": "9RnCVPZi8gPY",
        "outputId": "46d91056-7b4f-4bb9-bd00-6df38d049c19"
      },
      "execution_count": 17,
      "outputs": [
        {
          "output_type": "execute_result",
          "data": {
            "text/plain": [
              "'no'"
            ],
            "application/vnd.google.colaboratory.intrinsic+json": {
              "type": "string"
            }
          },
          "metadata": {},
          "execution_count": 17
        }
      ]
    },
    {
      "cell_type": "code",
      "source": [
        "vocab = set()\n",
        "all_data = test_data + train_data\n",
        "len(all_data)"
      ],
      "metadata": {
        "colab": {
          "base_uri": "https://localhost:8080/"
        },
        "id": "gVRPdCNg8icy",
        "outputId": "8321a3cd-8edb-47c9-c336-f519cb3eafe6"
      },
      "execution_count": 18,
      "outputs": [
        {
          "output_type": "execute_result",
          "data": {
            "text/plain": [
              "11000"
            ]
          },
          "metadata": {},
          "execution_count": 18
        }
      ]
    },
    {
      "cell_type": "code",
      "source": [
        "set(train_data[0][0])"
      ],
      "metadata": {
        "colab": {
          "base_uri": "https://localhost:8080/"
        },
        "id": "Ionm0NWg8tsQ",
        "outputId": "c4a610aa-d542-4098-a9f3-b8d9b8661123"
      },
      "execution_count": 19,
      "outputs": [
        {
          "output_type": "execute_result",
          "data": {
            "text/plain": [
              "{'.',\n",
              " 'Mary',\n",
              " 'Sandra',\n",
              " 'bathroom',\n",
              " 'bedroom',\n",
              " 'journeyed',\n",
              " 'moved',\n",
              " 'the',\n",
              " 'to'}"
            ]
          },
          "metadata": {},
          "execution_count": 19
        }
      ]
    },
    {
      "cell_type": "code",
      "source": [
        "for story, question , answer in all_data:\n",
        "    vocab = vocab.union(set(story))\n",
        "    vocab = vocab.union(set(question))\n"
      ],
      "metadata": {
        "id": "rKtxTyZE8yDc"
      },
      "execution_count": 20,
      "outputs": []
    },
    {
      "cell_type": "code",
      "source": [
        "vocab.add('no')\n",
        "vocab.add('yes')"
      ],
      "metadata": {
        "id": "rUQXoPwD81it"
      },
      "execution_count": 21,
      "outputs": []
    },
    {
      "cell_type": "code",
      "source": [
        "vocab"
      ],
      "metadata": {
        "colab": {
          "base_uri": "https://localhost:8080/"
        },
        "id": "K6toxRfH84ro",
        "outputId": "64c5a11a-b97a-498b-f987-0cb7b338474b"
      },
      "execution_count": 22,
      "outputs": [
        {
          "output_type": "execute_result",
          "data": {
            "text/plain": [
              "{'.',\n",
              " '?',\n",
              " 'Daniel',\n",
              " 'Is',\n",
              " 'John',\n",
              " 'Mary',\n",
              " 'Sandra',\n",
              " 'apple',\n",
              " 'back',\n",
              " 'bathroom',\n",
              " 'bedroom',\n",
              " 'discarded',\n",
              " 'down',\n",
              " 'dropped',\n",
              " 'football',\n",
              " 'garden',\n",
              " 'got',\n",
              " 'grabbed',\n",
              " 'hallway',\n",
              " 'in',\n",
              " 'journeyed',\n",
              " 'kitchen',\n",
              " 'left',\n",
              " 'milk',\n",
              " 'moved',\n",
              " 'no',\n",
              " 'office',\n",
              " 'picked',\n",
              " 'put',\n",
              " 'the',\n",
              " 'there',\n",
              " 'to',\n",
              " 'took',\n",
              " 'travelled',\n",
              " 'up',\n",
              " 'went',\n",
              " 'yes'}"
            ]
          },
          "metadata": {},
          "execution_count": 22
        }
      ]
    },
    {
      "cell_type": "code",
      "source": [
        "vocab_len = len(vocab) + 1\n",
        "vocab_len"
      ],
      "metadata": {
        "colab": {
          "base_uri": "https://localhost:8080/"
        },
        "id": "IgSAjq__865j",
        "outputId": "b3d2b447-298f-4725-d117-e044694ff744"
      },
      "execution_count": 23,
      "outputs": [
        {
          "output_type": "execute_result",
          "data": {
            "text/plain": [
              "38"
            ]
          },
          "metadata": {},
          "execution_count": 23
        }
      ]
    },
    {
      "cell_type": "code",
      "source": [
        "max_story_len = max([len(data[0]) for data in all_data])\n",
        "max_story_len"
      ],
      "metadata": {
        "colab": {
          "base_uri": "https://localhost:8080/"
        },
        "id": "YLiUECZ-9BLd",
        "outputId": "8b31d6f3-e340-4a00-b163-f5aeaa493876"
      },
      "execution_count": 24,
      "outputs": [
        {
          "output_type": "execute_result",
          "data": {
            "text/plain": [
              "156"
            ]
          },
          "metadata": {},
          "execution_count": 24
        }
      ]
    },
    {
      "cell_type": "code",
      "source": [
        "max_question_len = max([len(data[1]) for data in all_data])\n",
        "max_question_len"
      ],
      "metadata": {
        "colab": {
          "base_uri": "https://localhost:8080/"
        },
        "id": "0upObYtF9D0W",
        "outputId": "e08b9e91-a288-404e-c37e-89b3fd2e1a48"
      },
      "execution_count": 25,
      "outputs": [
        {
          "output_type": "execute_result",
          "data": {
            "text/plain": [
              "6"
            ]
          },
          "metadata": {},
          "execution_count": 25
        }
      ]
    },
    {
      "cell_type": "code",
      "source": [
        "vocab_size = len(vocab) + 1"
      ],
      "metadata": {
        "id": "QyHq-0iq9Led"
      },
      "execution_count": 26,
      "outputs": []
    },
    {
      "cell_type": "code",
      "source": [
        "tokenizer = Tokenizer(filters=[])   # provide empty list for filter out\n",
        "tokenizer.fit_on_texts(vocab)"
      ],
      "metadata": {
        "id": "jbPAFGJT9T1D"
      },
      "execution_count": 27,
      "outputs": []
    },
    {
      "cell_type": "code",
      "source": [
        "tokenizer.word_index"
      ],
      "metadata": {
        "colab": {
          "base_uri": "https://localhost:8080/"
        },
        "id": "Z3Sk8_dl9ULd",
        "outputId": "3bf0c251-dc42-40c3-de33-1eb7e595ce64"
      },
      "execution_count": 28,
      "outputs": [
        {
          "output_type": "execute_result",
          "data": {
            "text/plain": [
              "{'yes': 1,\n",
              " 'travelled': 2,\n",
              " 'to': 3,\n",
              " 'there': 4,\n",
              " 'in': 5,\n",
              " 'is': 6,\n",
              " 'down': 7,\n",
              " 'bathroom': 8,\n",
              " 'sandra': 9,\n",
              " '.': 10,\n",
              " 'discarded': 11,\n",
              " 'back': 12,\n",
              " 'put': 13,\n",
              " 'football': 14,\n",
              " 'john': 15,\n",
              " 'took': 16,\n",
              " 'apple': 17,\n",
              " 'milk': 18,\n",
              " 'got': 19,\n",
              " 'garden': 20,\n",
              " 'mary': 21,\n",
              " 'picked': 22,\n",
              " 'up': 23,\n",
              " 'hallway': 24,\n",
              " 'office': 25,\n",
              " 'kitchen': 26,\n",
              " 'daniel': 27,\n",
              " 'went': 28,\n",
              " '?': 29,\n",
              " 'grabbed': 30,\n",
              " 'no': 31,\n",
              " 'journeyed': 32,\n",
              " 'left': 33,\n",
              " 'moved': 34,\n",
              " 'bedroom': 35,\n",
              " 'the': 36,\n",
              " 'dropped': 37}"
            ]
          },
          "metadata": {},
          "execution_count": 28
        }
      ]
    },
    {
      "cell_type": "code",
      "source": [
        "train_story_text = []\n",
        "train_question_text = []\n",
        "train_answers = []\n",
        "\n",
        "for story,question,answer in train_data:\n",
        "    train_story_text.append(story)\n",
        "    train_question_text.append(question)"
      ],
      "metadata": {
        "id": "hn_6Gnkt9WSU"
      },
      "execution_count": 29,
      "outputs": []
    },
    {
      "cell_type": "code",
      "source": [
        "train_story_seq = tokenizer.texts_to_sequences(train_story_text)"
      ],
      "metadata": {
        "id": "Fy-JzWiy9aCb"
      },
      "execution_count": 30,
      "outputs": []
    },
    {
      "cell_type": "code",
      "source": [
        "len(train_story_text), len(train_story_seq)"
      ],
      "metadata": {
        "colab": {
          "base_uri": "https://localhost:8080/"
        },
        "id": "dBhswPUH9cK6",
        "outputId": "0060a540-ea67-472b-fd8e-20ee814efb5c"
      },
      "execution_count": 31,
      "outputs": [
        {
          "output_type": "execute_result",
          "data": {
            "text/plain": [
              "(10000, 10000)"
            ]
          },
          "metadata": {},
          "execution_count": 31
        }
      ]
    },
    {
      "cell_type": "code",
      "source": [
        "def vectorize_stories(data, word_index=tokenizer.word_index, max_story_len=max_story_len,max_question_len=max_question_len):\n",
        "\n",
        "\n",
        "    # X = STORIES\n",
        "    X = []\n",
        "    # Xq = QUERY/QUESTION\n",
        "    Xq = []\n",
        "    # Y = CORRECT ANSWER\n",
        "    Y = []\n",
        "\n",
        "\n",
        "    for story, query, answer in data:\n",
        "\n",
        "        # Grab the word index for every word in story\n",
        "        x = [word_index[word.lower()] for word in story]\n",
        "        # Grab the word index for every word in query\n",
        "        xq = [word_index[word.lower()] for word in query]\n",
        "\n",
        "        # Grab the Answers (either Yes/No so we don't need to use list comprehension here)\n",
        "        # Index 0 is reserved so we're going to use + 1\n",
        "        y = np.zeros(vocab_size)  # this includes +1 for padding\n",
        "\n",
        "        # Now that y is all zeros and we know its just Yes/No , we can use numpy logic to create this assignment\n",
        "        y[word_index[answer]] = 1\n",
        "\n",
        "        # Append each set of story,query, and answer to their respective holding lists\n",
        "        X.append(x)\n",
        "        Xq.append(xq)\n",
        "        Y.append(y)\n",
        "\n",
        "    # Finally, pad the sequences based on their max length so the RNN can be trained on uniformly long sequences.\n",
        "\n",
        "    # RETURN TUPLE FOR UNPACKING\n",
        "    return (pad_sequences(X, maxlen=max_story_len),pad_sequences(Xq, maxlen=max_question_len), np.array(Y))"
      ],
      "metadata": {
        "id": "9OLeycie9hRK"
      },
      "execution_count": 32,
      "outputs": []
    },
    {
      "cell_type": "code",
      "source": [
        "inputs_train, queries_train, answers_train = vectorize_stories(train_data)\n",
        "inputs_test, queries_test, answers_test = vectorize_stories(test_data)"
      ],
      "metadata": {
        "id": "Hdig1eyX9rHU"
      },
      "execution_count": 33,
      "outputs": []
    },
    {
      "cell_type": "code",
      "source": [
        "inputs_test"
      ],
      "metadata": {
        "colab": {
          "base_uri": "https://localhost:8080/"
        },
        "id": "gs2QLZOp9xT_",
        "outputId": "76f5d74a-8d1b-400a-c8a7-34980d17f316"
      },
      "execution_count": 34,
      "outputs": [
        {
          "output_type": "execute_result",
          "data": {
            "text/plain": [
              "array([[ 0,  0,  0, ..., 36, 35, 10],\n",
              "       [ 0,  0,  0, ..., 36, 20, 10],\n",
              "       [ 0,  0,  0, ..., 36, 20, 10],\n",
              "       ...,\n",
              "       [ 0,  0,  0, ..., 36, 17, 10],\n",
              "       [ 0,  0,  0, ..., 36, 20, 10],\n",
              "       [ 0,  0,  0, ..., 17,  4, 10]], dtype=int32)"
            ]
          },
          "metadata": {},
          "execution_count": 34
        }
      ]
    },
    {
      "cell_type": "code",
      "source": [
        "queries_test"
      ],
      "metadata": {
        "colab": {
          "base_uri": "https://localhost:8080/"
        },
        "id": "BbCcPep_9zr9",
        "outputId": "3b17eb58-8cab-45fb-eb37-a1d250034141"
      },
      "execution_count": 35,
      "outputs": [
        {
          "output_type": "execute_result",
          "data": {
            "text/plain": [
              "array([[ 6, 15,  5, 36, 26, 29],\n",
              "       [ 6, 15,  5, 36, 26, 29],\n",
              "       [ 6, 15,  5, 36, 20, 29],\n",
              "       ...,\n",
              "       [ 6, 21,  5, 36, 35, 29],\n",
              "       [ 6,  9,  5, 36, 20, 29],\n",
              "       [ 6, 21,  5, 36, 20, 29]], dtype=int32)"
            ]
          },
          "metadata": {},
          "execution_count": 35
        }
      ]
    },
    {
      "cell_type": "code",
      "source": [
        "answers_test"
      ],
      "metadata": {
        "colab": {
          "base_uri": "https://localhost:8080/"
        },
        "id": "XDwXmGOI92lX",
        "outputId": "dc892b2e-6b48-4eea-e848-8b2c17f95873"
      },
      "execution_count": 36,
      "outputs": [
        {
          "output_type": "execute_result",
          "data": {
            "text/plain": [
              "array([[0., 0., 0., ..., 0., 0., 0.],\n",
              "       [0., 0., 0., ..., 0., 0., 0.],\n",
              "       [0., 1., 0., ..., 0., 0., 0.],\n",
              "       ...,\n",
              "       [0., 0., 0., ..., 0., 0., 0.],\n",
              "       [0., 1., 0., ..., 0., 0., 0.],\n",
              "       [0., 1., 0., ..., 0., 0., 0.]])"
            ]
          },
          "metadata": {},
          "execution_count": 36
        }
      ]
    },
    {
      "cell_type": "code",
      "source": [
        "sum(answers_test)"
      ],
      "metadata": {
        "colab": {
          "base_uri": "https://localhost:8080/"
        },
        "id": "pD_8K0Oc94us",
        "outputId": "6aa747ad-67d5-46f8-c7c6-56171a7a3bc4"
      },
      "execution_count": 37,
      "outputs": [
        {
          "output_type": "execute_result",
          "data": {
            "text/plain": [
              "array([  0., 497.,   0.,   0.,   0.,   0.,   0.,   0.,   0.,   0.,   0.,\n",
              "         0.,   0.,   0.,   0.,   0.,   0.,   0.,   0.,   0.,   0.,   0.,\n",
              "         0.,   0.,   0.,   0.,   0.,   0.,   0.,   0.,   0., 503.,   0.,\n",
              "         0.,   0.,   0.,   0.,   0.])"
            ]
          },
          "metadata": {},
          "execution_count": 37
        }
      ]
    },
    {
      "cell_type": "code",
      "source": [
        "tokenizer.word_index['yes']"
      ],
      "metadata": {
        "colab": {
          "base_uri": "https://localhost:8080/"
        },
        "id": "v6fTYHaN97Yg",
        "outputId": "bcfad24f-d716-4595-ce49-f69648921eda"
      },
      "execution_count": 38,
      "outputs": [
        {
          "output_type": "execute_result",
          "data": {
            "text/plain": [
              "1"
            ]
          },
          "metadata": {},
          "execution_count": 38
        }
      ]
    },
    {
      "cell_type": "code",
      "source": [
        "tokenizer.word_index['no']"
      ],
      "metadata": {
        "colab": {
          "base_uri": "https://localhost:8080/"
        },
        "id": "L0wXlKUv99nR",
        "outputId": "d69d83a9-a67b-4741-907c-1ace3a48aaea"
      },
      "execution_count": 39,
      "outputs": [
        {
          "output_type": "execute_result",
          "data": {
            "text/plain": [
              "31"
            ]
          },
          "metadata": {},
          "execution_count": 39
        }
      ]
    },
    {
      "cell_type": "code",
      "source": [
        "input_sequence = Input((max_story_len,))\n",
        "question = Input((max_question_len,))"
      ],
      "metadata": {
        "id": "roBmzNgP-Cjd"
      },
      "execution_count": 40,
      "outputs": []
    },
    {
      "cell_type": "code",
      "source": [
        "embedding_dim = 128\n",
        "\n",
        "# Input gets embedded to a sequence of vectors\n",
        "input_encoder_m = Sequential()\n",
        "input_encoder_m.add(Embedding(input_dim=vocab_size,output_dim= embedding_dim))\n",
        "input_encoder_m.add(Dropout(0.3))"
      ],
      "metadata": {
        "id": "j-_uluD2-me2"
      },
      "execution_count": 41,
      "outputs": []
    },
    {
      "cell_type": "code",
      "source": [
        "input_encoder_c = Sequential()\n",
        "input_encoder_c.add(Embedding(input_dim=vocab_size,output_dim=max_question_len))\n",
        "input_encoder_c.add(Dropout(0.3))"
      ],
      "metadata": {
        "id": "jKRemyDP-tUk"
      },
      "execution_count": 42,
      "outputs": []
    },
    {
      "cell_type": "code",
      "source": [
        "question_encoder = Sequential()\n",
        "question_encoder.add(Embedding(input_dim=vocab_size,\n",
        "                               output_dim=embedding_dim,\n",
        "                               input_length=max_question_len))\n",
        "question_encoder.add(Dropout(0.3))"
      ],
      "metadata": {
        "id": "leERJ537-y5e"
      },
      "execution_count": 43,
      "outputs": []
    },
    {
      "cell_type": "code",
      "source": [
        "input_encoded_m = input_encoder_m(input_sequence)\n",
        "input_encoded_c = input_encoder_c(input_sequence)\n",
        "question_encoded = question_encoder(question)"
      ],
      "metadata": {
        "id": "W3MdDdlh_CbB"
      },
      "execution_count": 44,
      "outputs": []
    },
    {
      "cell_type": "code",
      "source": [
        "match = dot([input_encoded_m, question_encoded], axes=(2, 2))\n",
        "match = Activation('softmax')(match)"
      ],
      "metadata": {
        "id": "Ht0mZNph_GRs"
      },
      "execution_count": 45,
      "outputs": []
    },
    {
      "cell_type": "code",
      "source": [
        "response = add([match, input_encoded_c])  # (samples, story_maxlen, query_maxlen)\n",
        "response = Permute((2, 1))(response)  # (samples, query_maxlen, story_maxlen)"
      ],
      "metadata": {
        "id": "MU4EfJ_2_Lq4"
      },
      "execution_count": 46,
      "outputs": []
    },
    {
      "cell_type": "code",
      "source": [
        "answer = concatenate([response, question_encoded])\n",
        "answer"
      ],
      "metadata": {
        "colab": {
          "base_uri": "https://localhost:8080/"
        },
        "id": "-6gRFMY__RSJ",
        "outputId": "d2e35f30-716b-4896-acd6-442e551c7516"
      },
      "execution_count": 48,
      "outputs": [
        {
          "output_type": "execute_result",
          "data": {
            "text/plain": [
              "<KerasTensor: shape=(None, 6, 284) dtype=float32 (created by layer 'concatenate_1')>"
            ]
          },
          "metadata": {},
          "execution_count": 48
        }
      ]
    },
    {
      "cell_type": "code",
      "source": [
        "answer = LSTM(32)(answer)"
      ],
      "metadata": {
        "id": "pcLezFIn_VNJ"
      },
      "execution_count": 49,
      "outputs": []
    },
    {
      "cell_type": "code",
      "source": [
        "answer = Dropout(0.5)(answer)\n",
        "answer = Dense(vocab_size)(answer)"
      ],
      "metadata": {
        "id": "rGYCnDCP_aQ2"
      },
      "execution_count": 50,
      "outputs": []
    },
    {
      "cell_type": "code",
      "source": [
        "answer = Activation('softmax')(answer)\n",
        "\n",
        "# build the final model\n",
        "model = Model([input_sequence, question], answer)\n",
        "optimizer = RMSprop(learning_rate=0.01)\n",
        "model.compile(optimizer=optimizer, loss='categorical_crossentropy', metrics=['accuracy'])"
      ],
      "metadata": {
        "id": "qsKamMGA_gLa"
      },
      "execution_count": 51,
      "outputs": []
    },
    {
      "cell_type": "code",
      "source": [
        "model.summary()"
      ],
      "metadata": {
        "colab": {
          "base_uri": "https://localhost:8080/"
        },
        "id": "p4bKumel_kwq",
        "outputId": "aa947fbf-343f-436c-edbf-20fe9dc6f297"
      },
      "execution_count": 52,
      "outputs": [
        {
          "output_type": "stream",
          "name": "stdout",
          "text": [
            "Model: \"model\"\n",
            "__________________________________________________________________________________________________\n",
            " Layer (type)                Output Shape                 Param #   Connected to                  \n",
            "==================================================================================================\n",
            " input_1 (InputLayer)        [(None, 156)]                0         []                            \n",
            "                                                                                                  \n",
            " input_2 (InputLayer)        [(None, 6)]                  0         []                            \n",
            "                                                                                                  \n",
            " sequential (Sequential)     (None, None, 128)            4864      ['input_1[0][0]']             \n",
            "                                                                                                  \n",
            " sequential_2 (Sequential)   (None, 6, 128)               4864      ['input_2[0][0]']             \n",
            "                                                                                                  \n",
            " dot (Dot)                   (None, 156, 6)               0         ['sequential[0][0]',          \n",
            "                                                                     'sequential_2[0][0]']        \n",
            "                                                                                                  \n",
            " activation (Activation)     (None, 156, 6)               0         ['dot[0][0]']                 \n",
            "                                                                                                  \n",
            " sequential_1 (Sequential)   (None, None, 6)              228       ['input_1[0][0]']             \n",
            "                                                                                                  \n",
            " add (Add)                   (None, 156, 6)               0         ['activation[0][0]',          \n",
            "                                                                     'sequential_1[0][0]']        \n",
            "                                                                                                  \n",
            " permute (Permute)           (None, 6, 156)               0         ['add[0][0]']                 \n",
            "                                                                                                  \n",
            " concatenate_1 (Concatenate  (None, 6, 284)               0         ['permute[0][0]',             \n",
            " )                                                                   'sequential_2[0][0]']        \n",
            "                                                                                                  \n",
            " lstm (LSTM)                 (None, 32)                   40576     ['concatenate_1[0][0]']       \n",
            "                                                                                                  \n",
            " dropout_3 (Dropout)         (None, 32)                   0         ['lstm[0][0]']                \n",
            "                                                                                                  \n",
            " dense (Dense)               (None, 38)                   1254      ['dropout_3[0][0]']           \n",
            "                                                                                                  \n",
            " activation_1 (Activation)   (None, 38)                   0         ['dense[0][0]']               \n",
            "                                                                                                  \n",
            "==================================================================================================\n",
            "Total params: 51786 (202.29 KB)\n",
            "Trainable params: 51786 (202.29 KB)\n",
            "Non-trainable params: 0 (0.00 Byte)\n",
            "__________________________________________________________________________________________________\n"
          ]
        }
      ]
    },
    {
      "cell_type": "code",
      "source": [
        "initial_learning_rate = 0.01\n",
        "epochs = 150\n",
        "decay = initial_learning_rate / epochs\n",
        "\n",
        "def lr_step_decay(epoch, lr):\n",
        "    drop_rate = 0.5\n",
        "    epochs_drop = 20\n",
        "    return initial_learning_rate * math.pow(drop_rate, math.floor(epoch/epochs_drop))\n",
        "\n",
        "learning_rate = LearningRateScheduler(lr_step_decay, verbose=1)\n",
        "\n",
        "reduce_lr = ReduceLROnPlateau(monitor='val_loss', factor=0.66, patience=5, min_lr=0.0001, verbose=1)  # factor by which the learning rate will be reduced. new_lr = lr * factor"
      ],
      "metadata": {
        "id": "hPoVLluz_n_4"
      },
      "execution_count": 53,
      "outputs": []
    },
    {
      "cell_type": "code",
      "source": [
        "trained_model = model.fit([inputs_train, queries_train], answers_train,batch_size=256,epochs=150,validation_data=([inputs_test, queries_test], answers_test))  # , callbacks=[reduce_lr]"
      ],
      "metadata": {
        "colab": {
          "base_uri": "https://localhost:8080/"
        },
        "id": "f3GingeC_wVo",
        "outputId": "342b59e0-0f57-41da-ef77-2d799384ca98"
      },
      "execution_count": 55,
      "outputs": [
        {
          "output_type": "stream",
          "name": "stdout",
          "text": [
            "Epoch 1/150\n",
            "40/40 [==============================] - 5s 114ms/step - loss: 0.7043 - accuracy: 0.4986 - val_loss: 0.8185 - val_accuracy: 0.4970\n",
            "Epoch 2/150\n",
            "40/40 [==============================] - 4s 98ms/step - loss: 0.7051 - accuracy: 0.4955 - val_loss: 0.7649 - val_accuracy: 0.4970\n",
            "Epoch 3/150\n",
            "40/40 [==============================] - 4s 101ms/step - loss: 0.7046 - accuracy: 0.4991 - val_loss: 0.7366 - val_accuracy: 0.4970\n",
            "Epoch 4/150\n",
            "40/40 [==============================] - 5s 123ms/step - loss: 0.7056 - accuracy: 0.4983 - val_loss: 0.7324 - val_accuracy: 0.4970\n",
            "Epoch 5/150\n",
            "40/40 [==============================] - 4s 97ms/step - loss: 0.7020 - accuracy: 0.4995 - val_loss: 0.6957 - val_accuracy: 0.4970\n",
            "Epoch 6/150\n",
            "40/40 [==============================] - 4s 95ms/step - loss: 0.7014 - accuracy: 0.5017 - val_loss: 0.7114 - val_accuracy: 0.4970\n",
            "Epoch 7/150\n",
            "40/40 [==============================] - 5s 131ms/step - loss: 0.7029 - accuracy: 0.4983 - val_loss: 0.7017 - val_accuracy: 0.5030\n",
            "Epoch 8/150\n",
            "40/40 [==============================] - 4s 96ms/step - loss: 0.6998 - accuracy: 0.4971 - val_loss: 0.6990 - val_accuracy: 0.4970\n",
            "Epoch 9/150\n",
            "40/40 [==============================] - 4s 96ms/step - loss: 0.7009 - accuracy: 0.5015 - val_loss: 0.6977 - val_accuracy: 0.5030\n",
            "Epoch 10/150\n",
            "40/40 [==============================] - 5s 132ms/step - loss: 0.6987 - accuracy: 0.5030 - val_loss: 0.6957 - val_accuracy: 0.5030\n",
            "Epoch 11/150\n",
            "40/40 [==============================] - 4s 95ms/step - loss: 0.7008 - accuracy: 0.4939 - val_loss: 0.6935 - val_accuracy: 0.4970\n",
            "Epoch 12/150\n",
            "40/40 [==============================] - 4s 96ms/step - loss: 0.6991 - accuracy: 0.4991 - val_loss: 0.7376 - val_accuracy: 0.4970\n",
            "Epoch 13/150\n",
            "40/40 [==============================] - 5s 133ms/step - loss: 0.6990 - accuracy: 0.5079 - val_loss: 0.6949 - val_accuracy: 0.4970\n",
            "Epoch 14/150\n",
            "40/40 [==============================] - 4s 96ms/step - loss: 0.6997 - accuracy: 0.5044 - val_loss: 0.7002 - val_accuracy: 0.5030\n",
            "Epoch 15/150\n",
            "40/40 [==============================] - 4s 95ms/step - loss: 0.6976 - accuracy: 0.5061 - val_loss: 0.7183 - val_accuracy: 0.4970\n",
            "Epoch 16/150\n",
            "40/40 [==============================] - 5s 121ms/step - loss: 0.6982 - accuracy: 0.5041 - val_loss: 0.6952 - val_accuracy: 0.5030\n",
            "Epoch 17/150\n",
            "40/40 [==============================] - 4s 101ms/step - loss: 0.6989 - accuracy: 0.5021 - val_loss: 0.7103 - val_accuracy: 0.5030\n",
            "Epoch 18/150\n",
            "40/40 [==============================] - 4s 93ms/step - loss: 0.6971 - accuracy: 0.5062 - val_loss: 0.6972 - val_accuracy: 0.5030\n",
            "Epoch 19/150\n",
            "40/40 [==============================] - 4s 99ms/step - loss: 0.6997 - accuracy: 0.4947 - val_loss: 0.7446 - val_accuracy: 0.5030\n",
            "Epoch 20/150\n",
            "40/40 [==============================] - 5s 117ms/step - loss: 0.6988 - accuracy: 0.4983 - val_loss: 0.6984 - val_accuracy: 0.5030\n",
            "Epoch 21/150\n",
            "40/40 [==============================] - 4s 91ms/step - loss: 0.6985 - accuracy: 0.5026 - val_loss: 0.6934 - val_accuracy: 0.5030\n",
            "Epoch 22/150\n",
            "40/40 [==============================] - 4s 91ms/step - loss: 0.6982 - accuracy: 0.5048 - val_loss: 0.7026 - val_accuracy: 0.4970\n",
            "Epoch 23/150\n",
            "40/40 [==============================] - 5s 128ms/step - loss: 0.6987 - accuracy: 0.4984 - val_loss: 0.6946 - val_accuracy: 0.5030\n",
            "Epoch 24/150\n",
            "40/40 [==============================] - 4s 96ms/step - loss: 0.6976 - accuracy: 0.5017 - val_loss: 0.6972 - val_accuracy: 0.5030\n",
            "Epoch 25/150\n",
            "40/40 [==============================] - 4s 91ms/step - loss: 0.6975 - accuracy: 0.5078 - val_loss: 0.7841 - val_accuracy: 0.5030\n",
            "Epoch 26/150\n",
            "40/40 [==============================] - 5s 134ms/step - loss: 0.6995 - accuracy: 0.4947 - val_loss: 0.7644 - val_accuracy: 0.4970\n",
            "Epoch 27/150\n",
            "40/40 [==============================] - 4s 94ms/step - loss: 0.6978 - accuracy: 0.5071 - val_loss: 0.6981 - val_accuracy: 0.4970\n",
            "Epoch 28/150\n",
            "40/40 [==============================] - 4s 96ms/step - loss: 0.6979 - accuracy: 0.4942 - val_loss: 0.6945 - val_accuracy: 0.5030\n",
            "Epoch 29/150\n",
            "40/40 [==============================] - 5s 119ms/step - loss: 0.6964 - accuracy: 0.5039 - val_loss: 0.7442 - val_accuracy: 0.5030\n",
            "Epoch 30/150\n",
            "40/40 [==============================] - 4s 106ms/step - loss: 0.6986 - accuracy: 0.5004 - val_loss: 0.6936 - val_accuracy: 0.5030\n",
            "Epoch 31/150\n",
            "40/40 [==============================] - 4s 96ms/step - loss: 0.6980 - accuracy: 0.4925 - val_loss: 0.7557 - val_accuracy: 0.5030\n",
            "Epoch 32/150\n",
            "40/40 [==============================] - 5s 115ms/step - loss: 0.6971 - accuracy: 0.5085 - val_loss: 0.7129 - val_accuracy: 0.4970\n",
            "Epoch 33/150\n",
            "40/40 [==============================] - 5s 113ms/step - loss: 0.6964 - accuracy: 0.5035 - val_loss: 0.7057 - val_accuracy: 0.5030\n",
            "Epoch 34/150\n",
            "40/40 [==============================] - 4s 99ms/step - loss: 0.6974 - accuracy: 0.5041 - val_loss: 0.6982 - val_accuracy: 0.5030\n",
            "Epoch 35/150\n",
            "40/40 [==============================] - 4s 104ms/step - loss: 0.6964 - accuracy: 0.4998 - val_loss: 0.6961 - val_accuracy: 0.5010\n",
            "Epoch 36/150\n",
            "40/40 [==============================] - 5s 122ms/step - loss: 0.6970 - accuracy: 0.5066 - val_loss: 0.7126 - val_accuracy: 0.4970\n",
            "Epoch 37/150\n",
            "40/40 [==============================] - 4s 97ms/step - loss: 0.6950 - accuracy: 0.5109 - val_loss: 0.7595 - val_accuracy: 0.4970\n",
            "Epoch 38/150\n",
            "40/40 [==============================] - 4s 98ms/step - loss: 0.6957 - accuracy: 0.5221 - val_loss: 0.7193 - val_accuracy: 0.4970\n",
            "Epoch 39/150\n",
            "40/40 [==============================] - 5s 130ms/step - loss: 0.6950 - accuracy: 0.5193 - val_loss: 0.7045 - val_accuracy: 0.4970\n",
            "Epoch 40/150\n",
            "40/40 [==============================] - 4s 93ms/step - loss: 0.6836 - accuracy: 0.5428 - val_loss: 0.7053 - val_accuracy: 0.5330\n",
            "Epoch 41/150\n",
            "40/40 [==============================] - 4s 98ms/step - loss: 0.6733 - accuracy: 0.5734 - val_loss: 0.7106 - val_accuracy: 0.5640\n",
            "Epoch 42/150\n",
            "40/40 [==============================] - 5s 134ms/step - loss: 0.6613 - accuracy: 0.5993 - val_loss: 0.6396 - val_accuracy: 0.6510\n",
            "Epoch 43/150\n",
            "40/40 [==============================] - 4s 97ms/step - loss: 0.6539 - accuracy: 0.6156 - val_loss: 0.6873 - val_accuracy: 0.5150\n",
            "Epoch 44/150\n",
            "40/40 [==============================] - 4s 95ms/step - loss: 0.6471 - accuracy: 0.6299 - val_loss: 0.6245 - val_accuracy: 0.6490\n",
            "Epoch 45/150\n",
            "40/40 [==============================] - 5s 132ms/step - loss: 0.6359 - accuracy: 0.6429 - val_loss: 0.6755 - val_accuracy: 0.5870\n",
            "Epoch 46/150\n",
            "40/40 [==============================] - 4s 100ms/step - loss: 0.6273 - accuracy: 0.6552 - val_loss: 0.6284 - val_accuracy: 0.6580\n",
            "Epoch 47/150\n",
            "40/40 [==============================] - 5s 120ms/step - loss: 0.6197 - accuracy: 0.6661 - val_loss: 0.6156 - val_accuracy: 0.6700\n",
            "Epoch 48/150\n",
            "40/40 [==============================] - 5s 128ms/step - loss: 0.6081 - accuracy: 0.6763 - val_loss: 0.6235 - val_accuracy: 0.6550\n",
            "Epoch 49/150\n",
            "40/40 [==============================] - 4s 95ms/step - loss: 0.6039 - accuracy: 0.6736 - val_loss: 0.6152 - val_accuracy: 0.6850\n",
            "Epoch 50/150\n",
            "40/40 [==============================] - 4s 95ms/step - loss: 0.5913 - accuracy: 0.6879 - val_loss: 0.6134 - val_accuracy: 0.6780\n",
            "Epoch 51/150\n",
            "40/40 [==============================] - 5s 131ms/step - loss: 0.5798 - accuracy: 0.7044 - val_loss: 0.5745 - val_accuracy: 0.7140\n",
            "Epoch 52/150\n",
            "40/40 [==============================] - 4s 97ms/step - loss: 0.5675 - accuracy: 0.7103 - val_loss: 0.6315 - val_accuracy: 0.6470\n",
            "Epoch 53/150\n",
            "40/40 [==============================] - 4s 97ms/step - loss: 0.5525 - accuracy: 0.7268 - val_loss: 0.5431 - val_accuracy: 0.7480\n",
            "Epoch 54/150\n",
            "40/40 [==============================] - 5s 125ms/step - loss: 0.5450 - accuracy: 0.7320 - val_loss: 0.6335 - val_accuracy: 0.6820\n",
            "Epoch 55/150\n",
            "40/40 [==============================] - 4s 95ms/step - loss: 0.5349 - accuracy: 0.7371 - val_loss: 0.7716 - val_accuracy: 0.6090\n",
            "Epoch 56/150\n",
            "40/40 [==============================] - 4s 93ms/step - loss: 0.5220 - accuracy: 0.7488 - val_loss: 0.6259 - val_accuracy: 0.6860\n",
            "Epoch 57/150\n",
            "40/40 [==============================] - 4s 102ms/step - loss: 0.5129 - accuracy: 0.7544 - val_loss: 0.6597 - val_accuracy: 0.6690\n",
            "Epoch 58/150\n",
            "40/40 [==============================] - 5s 118ms/step - loss: 0.4941 - accuracy: 0.7705 - val_loss: 0.6314 - val_accuracy: 0.6910\n",
            "Epoch 59/150\n",
            "40/40 [==============================] - 4s 96ms/step - loss: 0.4724 - accuracy: 0.7816 - val_loss: 0.5789 - val_accuracy: 0.7250\n",
            "Epoch 60/150\n",
            "40/40 [==============================] - 4s 96ms/step - loss: 0.4650 - accuracy: 0.7863 - val_loss: 0.5480 - val_accuracy: 0.7550\n",
            "Epoch 61/150\n",
            "40/40 [==============================] - 5s 127ms/step - loss: 0.4568 - accuracy: 0.7977 - val_loss: 0.4711 - val_accuracy: 0.7670\n",
            "Epoch 62/150\n",
            "40/40 [==============================] - 4s 92ms/step - loss: 0.4473 - accuracy: 0.8013 - val_loss: 0.5051 - val_accuracy: 0.7560\n",
            "Epoch 63/150\n",
            "40/40 [==============================] - 4s 98ms/step - loss: 0.4400 - accuracy: 0.8053 - val_loss: 0.4880 - val_accuracy: 0.7900\n",
            "Epoch 64/150\n",
            "40/40 [==============================] - 5s 132ms/step - loss: 0.4338 - accuracy: 0.8053 - val_loss: 0.5008 - val_accuracy: 0.7530\n",
            "Epoch 65/150\n",
            "40/40 [==============================] - 4s 96ms/step - loss: 0.4339 - accuracy: 0.8081 - val_loss: 0.4522 - val_accuracy: 0.8010\n",
            "Epoch 66/150\n",
            "40/40 [==============================] - 4s 91ms/step - loss: 0.4195 - accuracy: 0.8186 - val_loss: 0.4778 - val_accuracy: 0.7980\n",
            "Epoch 67/150\n",
            "40/40 [==============================] - 5s 123ms/step - loss: 0.4096 - accuracy: 0.8215 - val_loss: 0.4195 - val_accuracy: 0.8140\n",
            "Epoch 68/150\n",
            "40/40 [==============================] - 4s 93ms/step - loss: 0.4075 - accuracy: 0.8223 - val_loss: 0.4892 - val_accuracy: 0.7960\n",
            "Epoch 69/150\n",
            "40/40 [==============================] - 4s 93ms/step - loss: 0.4004 - accuracy: 0.8240 - val_loss: 0.4889 - val_accuracy: 0.7640\n",
            "Epoch 70/150\n",
            "40/40 [==============================] - 4s 105ms/step - loss: 0.4066 - accuracy: 0.8218 - val_loss: 0.4649 - val_accuracy: 0.8070\n",
            "Epoch 71/150\n",
            "40/40 [==============================] - 4s 111ms/step - loss: 0.3892 - accuracy: 0.8294 - val_loss: 0.4066 - val_accuracy: 0.8150\n",
            "Epoch 72/150\n",
            "40/40 [==============================] - 4s 95ms/step - loss: 0.3852 - accuracy: 0.8325 - val_loss: 0.4847 - val_accuracy: 0.7920\n",
            "Epoch 73/150\n",
            "40/40 [==============================] - 4s 93ms/step - loss: 0.3830 - accuracy: 0.8329 - val_loss: 0.5285 - val_accuracy: 0.7710\n",
            "Epoch 74/150\n",
            "40/40 [==============================] - 5s 127ms/step - loss: 0.3793 - accuracy: 0.8355 - val_loss: 0.4851 - val_accuracy: 0.7770\n",
            "Epoch 75/150\n",
            "40/40 [==============================] - 4s 92ms/step - loss: 0.3726 - accuracy: 0.8372 - val_loss: 0.4696 - val_accuracy: 0.7680\n",
            "Epoch 76/150\n",
            "40/40 [==============================] - 4s 93ms/step - loss: 0.3690 - accuracy: 0.8414 - val_loss: 0.4431 - val_accuracy: 0.8100\n",
            "Epoch 77/150\n",
            "40/40 [==============================] - 5s 126ms/step - loss: 0.3629 - accuracy: 0.8402 - val_loss: 0.5076 - val_accuracy: 0.7520\n",
            "Epoch 78/150\n",
            "40/40 [==============================] - 4s 91ms/step - loss: 0.3613 - accuracy: 0.8476 - val_loss: 0.4446 - val_accuracy: 0.8160\n",
            "Epoch 79/150\n",
            "40/40 [==============================] - 4s 93ms/step - loss: 0.3550 - accuracy: 0.8475 - val_loss: 0.4516 - val_accuracy: 0.8070\n",
            "Epoch 80/150\n",
            "40/40 [==============================] - 4s 110ms/step - loss: 0.3555 - accuracy: 0.8523 - val_loss: 0.4290 - val_accuracy: 0.8050\n",
            "Epoch 81/150\n",
            "40/40 [==============================] - 4s 107ms/step - loss: 0.3468 - accuracy: 0.8477 - val_loss: 0.4562 - val_accuracy: 0.8030\n",
            "Epoch 82/150\n",
            "40/40 [==============================] - 4s 95ms/step - loss: 0.3396 - accuracy: 0.8557 - val_loss: 0.4539 - val_accuracy: 0.8040\n",
            "Epoch 83/150\n",
            "40/40 [==============================] - 4s 94ms/step - loss: 0.3389 - accuracy: 0.8510 - val_loss: 0.4678 - val_accuracy: 0.7960\n",
            "Epoch 84/150\n",
            "40/40 [==============================] - 5s 124ms/step - loss: 0.3461 - accuracy: 0.8514 - val_loss: 0.4499 - val_accuracy: 0.8130\n",
            "Epoch 85/150\n",
            "40/40 [==============================] - 4s 93ms/step - loss: 0.3370 - accuracy: 0.8547 - val_loss: 0.4366 - val_accuracy: 0.8180\n",
            "Epoch 86/150\n",
            "40/40 [==============================] - 4s 90ms/step - loss: 0.3327 - accuracy: 0.8574 - val_loss: 0.4461 - val_accuracy: 0.8100\n",
            "Epoch 87/150\n",
            "40/40 [==============================] - 5s 128ms/step - loss: 0.3280 - accuracy: 0.8582 - val_loss: 0.4925 - val_accuracy: 0.8030\n",
            "Epoch 88/150\n",
            "40/40 [==============================] - 4s 92ms/step - loss: 0.3313 - accuracy: 0.8560 - val_loss: 0.4252 - val_accuracy: 0.8130\n",
            "Epoch 89/150\n",
            "40/40 [==============================] - 4s 93ms/step - loss: 0.3284 - accuracy: 0.8559 - val_loss: 0.4911 - val_accuracy: 0.7990\n",
            "Epoch 90/150\n",
            "40/40 [==============================] - 5s 116ms/step - loss: 0.3281 - accuracy: 0.8598 - val_loss: 0.4326 - val_accuracy: 0.8160\n",
            "Epoch 91/150\n",
            "40/40 [==============================] - 4s 100ms/step - loss: 0.3248 - accuracy: 0.8602 - val_loss: 0.4561 - val_accuracy: 0.8150\n",
            "Epoch 92/150\n",
            "40/40 [==============================] - 4s 93ms/step - loss: 0.3174 - accuracy: 0.8670 - val_loss: 0.5016 - val_accuracy: 0.8080\n",
            "Epoch 93/150\n",
            "40/40 [==============================] - 4s 97ms/step - loss: 0.3105 - accuracy: 0.8675 - val_loss: 0.4332 - val_accuracy: 0.8250\n",
            "Epoch 94/150\n",
            "40/40 [==============================] - 5s 123ms/step - loss: 0.3154 - accuracy: 0.8637 - val_loss: 0.4659 - val_accuracy: 0.8120\n",
            "Epoch 95/150\n",
            "40/40 [==============================] - 4s 91ms/step - loss: 0.3151 - accuracy: 0.8662 - val_loss: 0.4656 - val_accuracy: 0.8190\n",
            "Epoch 96/150\n",
            "40/40 [==============================] - 4s 93ms/step - loss: 0.3090 - accuracy: 0.8687 - val_loss: 0.4593 - val_accuracy: 0.8190\n",
            "Epoch 97/150\n",
            "40/40 [==============================] - 5s 128ms/step - loss: 0.3087 - accuracy: 0.8674 - val_loss: 0.5351 - val_accuracy: 0.7910\n",
            "Epoch 98/150\n",
            "40/40 [==============================] - 4s 93ms/step - loss: 0.3003 - accuracy: 0.8726 - val_loss: 0.5925 - val_accuracy: 0.7360\n",
            "Epoch 99/150\n",
            "40/40 [==============================] - 4s 90ms/step - loss: 0.3119 - accuracy: 0.8653 - val_loss: 0.4422 - val_accuracy: 0.8170\n",
            "Epoch 100/150\n",
            "40/40 [==============================] - 5s 118ms/step - loss: 0.3019 - accuracy: 0.8720 - val_loss: 0.5051 - val_accuracy: 0.8020\n",
            "Epoch 101/150\n",
            "40/40 [==============================] - 4s 99ms/step - loss: 0.2952 - accuracy: 0.8762 - val_loss: 0.4696 - val_accuracy: 0.8250\n",
            "Epoch 102/150\n",
            "40/40 [==============================] - 4s 93ms/step - loss: 0.2974 - accuracy: 0.8719 - val_loss: 0.4414 - val_accuracy: 0.8150\n",
            "Epoch 103/150\n",
            "40/40 [==============================] - 4s 100ms/step - loss: 0.2969 - accuracy: 0.8714 - val_loss: 0.4314 - val_accuracy: 0.8240\n",
            "Epoch 104/150\n",
            "40/40 [==============================] - 5s 116ms/step - loss: 0.2915 - accuracy: 0.8768 - val_loss: 0.4508 - val_accuracy: 0.8160\n",
            "Epoch 105/150\n",
            "40/40 [==============================] - 4s 92ms/step - loss: 0.2847 - accuracy: 0.8785 - val_loss: 0.4583 - val_accuracy: 0.8210\n",
            "Epoch 106/150\n",
            "40/40 [==============================] - 4s 92ms/step - loss: 0.2876 - accuracy: 0.8784 - val_loss: 0.4698 - val_accuracy: 0.8060\n",
            "Epoch 107/150\n",
            "40/40 [==============================] - 5s 126ms/step - loss: 0.2893 - accuracy: 0.8794 - val_loss: 0.4586 - val_accuracy: 0.8360\n",
            "Epoch 108/150\n",
            "40/40 [==============================] - 4s 91ms/step - loss: 0.2818 - accuracy: 0.8786 - val_loss: 0.4632 - val_accuracy: 0.8180\n",
            "Epoch 109/150\n",
            "40/40 [==============================] - 4s 94ms/step - loss: 0.2889 - accuracy: 0.8793 - val_loss: 0.4844 - val_accuracy: 0.8090\n",
            "Epoch 110/150\n",
            "40/40 [==============================] - 5s 125ms/step - loss: 0.2803 - accuracy: 0.8778 - val_loss: 0.4476 - val_accuracy: 0.8140\n",
            "Epoch 111/150\n",
            "40/40 [==============================] - 4s 94ms/step - loss: 0.2761 - accuracy: 0.8811 - val_loss: 0.4730 - val_accuracy: 0.8130\n",
            "Epoch 112/150\n",
            "40/40 [==============================] - 4s 92ms/step - loss: 0.2796 - accuracy: 0.8811 - val_loss: 0.4517 - val_accuracy: 0.8150\n",
            "Epoch 113/150\n",
            "40/40 [==============================] - 4s 106ms/step - loss: 0.2709 - accuracy: 0.8835 - val_loss: 0.5187 - val_accuracy: 0.8230\n",
            "Epoch 114/150\n",
            "40/40 [==============================] - 4s 111ms/step - loss: 0.2684 - accuracy: 0.8834 - val_loss: 0.5051 - val_accuracy: 0.8270\n",
            "Epoch 115/150\n",
            "40/40 [==============================] - 4s 91ms/step - loss: 0.2684 - accuracy: 0.8868 - val_loss: 0.4535 - val_accuracy: 0.8330\n",
            "Epoch 116/150\n",
            "40/40 [==============================] - 4s 93ms/step - loss: 0.2726 - accuracy: 0.8853 - val_loss: 0.4443 - val_accuracy: 0.8150\n",
            "Epoch 117/150\n",
            "40/40 [==============================] - 5s 129ms/step - loss: 0.2702 - accuracy: 0.8834 - val_loss: 0.4651 - val_accuracy: 0.8170\n",
            "Epoch 118/150\n",
            "40/40 [==============================] - 4s 93ms/step - loss: 0.2613 - accuracy: 0.8857 - val_loss: 0.4455 - val_accuracy: 0.8290\n",
            "Epoch 119/150\n",
            "40/40 [==============================] - 4s 93ms/step - loss: 0.2623 - accuracy: 0.8889 - val_loss: 0.4582 - val_accuracy: 0.8320\n",
            "Epoch 120/150\n",
            "40/40 [==============================] - 5s 128ms/step - loss: 0.2601 - accuracy: 0.8930 - val_loss: 0.4322 - val_accuracy: 0.8170\n",
            "Epoch 121/150\n",
            "40/40 [==============================] - 4s 93ms/step - loss: 0.2579 - accuracy: 0.8925 - val_loss: 0.4162 - val_accuracy: 0.8300\n",
            "Epoch 122/150\n",
            "40/40 [==============================] - 4s 94ms/step - loss: 0.2523 - accuracy: 0.8922 - val_loss: 0.4426 - val_accuracy: 0.8340\n",
            "Epoch 123/150\n",
            "40/40 [==============================] - 5s 114ms/step - loss: 0.2529 - accuracy: 0.8947 - val_loss: 0.4169 - val_accuracy: 0.8250\n",
            "Epoch 124/150\n",
            "40/40 [==============================] - 4s 102ms/step - loss: 0.2380 - accuracy: 0.8995 - val_loss: 0.4191 - val_accuracy: 0.8180\n",
            "Epoch 125/150\n",
            "40/40 [==============================] - 5s 127ms/step - loss: 0.2460 - accuracy: 0.8985 - val_loss: 0.4057 - val_accuracy: 0.8220\n",
            "Epoch 126/150\n",
            "40/40 [==============================] - 5s 116ms/step - loss: 0.2434 - accuracy: 0.9007 - val_loss: 0.3862 - val_accuracy: 0.8420\n",
            "Epoch 127/150\n",
            "40/40 [==============================] - 4s 103ms/step - loss: 0.2368 - accuracy: 0.9018 - val_loss: 0.3855 - val_accuracy: 0.8450\n",
            "Epoch 128/150\n",
            "40/40 [==============================] - 4s 95ms/step - loss: 0.2247 - accuracy: 0.9085 - val_loss: 0.4053 - val_accuracy: 0.8450\n",
            "Epoch 129/150\n",
            "40/40 [==============================] - 4s 99ms/step - loss: 0.2380 - accuracy: 0.8987 - val_loss: 0.4139 - val_accuracy: 0.8470\n",
            "Epoch 130/150\n",
            "40/40 [==============================] - 5s 117ms/step - loss: 0.2247 - accuracy: 0.9050 - val_loss: 0.5002 - val_accuracy: 0.7980\n",
            "Epoch 131/150\n",
            "40/40 [==============================] - 4s 92ms/step - loss: 0.2358 - accuracy: 0.8999 - val_loss: 0.4527 - val_accuracy: 0.8380\n",
            "Epoch 132/150\n",
            "40/40 [==============================] - 4s 94ms/step - loss: 0.2162 - accuracy: 0.9075 - val_loss: 0.3520 - val_accuracy: 0.8600\n",
            "Epoch 133/150\n",
            "40/40 [==============================] - 5s 126ms/step - loss: 0.2233 - accuracy: 0.9083 - val_loss: 0.3877 - val_accuracy: 0.8460\n",
            "Epoch 134/150\n",
            "40/40 [==============================] - 4s 93ms/step - loss: 0.2130 - accuracy: 0.9132 - val_loss: 0.4643 - val_accuracy: 0.8280\n",
            "Epoch 135/150\n",
            "40/40 [==============================] - 4s 91ms/step - loss: 0.2051 - accuracy: 0.9144 - val_loss: 0.4350 - val_accuracy: 0.8360\n",
            "Epoch 136/150\n",
            "40/40 [==============================] - 5s 120ms/step - loss: 0.2116 - accuracy: 0.9114 - val_loss: 0.3979 - val_accuracy: 0.8600\n",
            "Epoch 137/150\n",
            "40/40 [==============================] - 4s 95ms/step - loss: 0.2089 - accuracy: 0.9119 - val_loss: 0.4047 - val_accuracy: 0.8420\n",
            "Epoch 138/150\n",
            "40/40 [==============================] - 4s 91ms/step - loss: 0.2023 - accuracy: 0.9188 - val_loss: 0.4661 - val_accuracy: 0.8410\n",
            "Epoch 139/150\n",
            "40/40 [==============================] - 4s 99ms/step - loss: 0.1942 - accuracy: 0.9180 - val_loss: 0.4081 - val_accuracy: 0.8580\n",
            "Epoch 140/150\n",
            "40/40 [==============================] - 5s 118ms/step - loss: 0.1905 - accuracy: 0.9205 - val_loss: 0.4211 - val_accuracy: 0.8700\n",
            "Epoch 141/150\n",
            "40/40 [==============================] - 4s 95ms/step - loss: 0.1950 - accuracy: 0.9204 - val_loss: 0.3443 - val_accuracy: 0.8590\n",
            "Epoch 142/150\n",
            "40/40 [==============================] - 4s 91ms/step - loss: 0.1926 - accuracy: 0.9212 - val_loss: 0.3745 - val_accuracy: 0.8630\n",
            "Epoch 143/150\n",
            "40/40 [==============================] - 5s 127ms/step - loss: 0.1927 - accuracy: 0.9232 - val_loss: 0.3456 - val_accuracy: 0.8770\n",
            "Epoch 144/150\n",
            "40/40 [==============================] - 4s 94ms/step - loss: 0.1820 - accuracy: 0.9271 - val_loss: 0.3793 - val_accuracy: 0.8610\n",
            "Epoch 145/150\n",
            "40/40 [==============================] - 4s 94ms/step - loss: 0.1914 - accuracy: 0.9216 - val_loss: 0.3945 - val_accuracy: 0.8560\n",
            "Epoch 146/150\n",
            "40/40 [==============================] - 5s 127ms/step - loss: 0.1884 - accuracy: 0.9241 - val_loss: 0.3350 - val_accuracy: 0.8710\n",
            "Epoch 147/150\n",
            "40/40 [==============================] - 4s 94ms/step - loss: 0.1755 - accuracy: 0.9272 - val_loss: 0.3562 - val_accuracy: 0.8830\n",
            "Epoch 148/150\n",
            "40/40 [==============================] - 4s 95ms/step - loss: 0.1724 - accuracy: 0.9307 - val_loss: 0.3438 - val_accuracy: 0.8620\n",
            "Epoch 149/150\n",
            "40/40 [==============================] - 4s 110ms/step - loss: 0.1708 - accuracy: 0.9318 - val_loss: 0.3980 - val_accuracy: 0.8770\n",
            "Epoch 150/150\n",
            "40/40 [==============================] - 4s 106ms/step - loss: 0.1727 - accuracy: 0.9297 - val_loss: 0.3606 - val_accuracy: 0.8730\n"
          ]
        }
      ]
    },
    {
      "cell_type": "code",
      "source": [
        "print(trained_model.history.keys())\n",
        "# summarize history for accuracy\n",
        "plt.plot(trained_model.history['accuracy'])\n",
        "plt.plot(trained_model.history['val_accuracy'])\n",
        "plt.title('model accuracy')\n",
        "plt.ylabel('accuracy')\n",
        "plt.xlabel('epoch')\n",
        "plt.legend(['train', 'test'], loc='upper left')\n",
        "#plt.savefig('accuracy.png', dpi=180, facecolor='white')\n",
        "plt.show()"
      ],
      "metadata": {
        "colab": {
          "base_uri": "https://localhost:8080/",
          "height": 490
        },
        "id": "7UlqzEQz_25R",
        "outputId": "01596196-47ab-4a52-ff47-6ad116981afd"
      },
      "execution_count": 58,
      "outputs": [
        {
          "output_type": "stream",
          "name": "stdout",
          "text": [
            "dict_keys(['loss', 'accuracy', 'val_loss', 'val_accuracy'])\n"
          ]
        },
        {
          "output_type": "display_data",
          "data": {
            "text/plain": [
              "<Figure size 640x480 with 1 Axes>"
            ],
            "image/png": "[encoded data removed]"
          },
          "metadata": {}
        }
      ]
    },
    {
      "cell_type": "code",
      "source": [
        "pred_results = model.predict(([inputs_test, queries_test]))\n"
      ],
      "metadata": {
        "colab": {
          "base_uri": "https://localhost:8080/"
        },
        "id": "fZFr5PppC1lP",
        "outputId": "8529b76b-cf24-4263-c510-98c4f3fb1aeb"
      },
      "execution_count": 50,
      "outputs": [
        {
          "output_type": "stream",
          "name": "stdout",
          "text": [
            "32/32 [==============================] - 1s 5ms/step\n"
          ]
        }
      ]
    },
    {
      "cell_type": "code",
      "source": [
        "story =' '.join(word for word in test_data[0][0])\n",
        "print(story)"
      ],
      "metadata": {
        "colab": {
          "base_uri": "https://localhost:8080/"
        },
        "id": "zECXvnGAC8TT",
        "outputId": "9d0f7ca1-298d-4196-df52-de2951cfa5ea"
      },
      "execution_count": 51,
      "outputs": [
        {
          "output_type": "stream",
          "name": "stdout",
          "text": [
            "Mary got the milk there . John moved to the bedroom .\n"
          ]
        }
      ]
    },
    {
      "cell_type": "code",
      "source": [
        "query = ' '.join(word for word in test_data[0][1])\n",
        "print(query)"
      ],
      "metadata": {
        "colab": {
          "base_uri": "https://localhost:8080/"
        },
        "id": "CfnpYuzDDAYr",
        "outputId": "8ad88205-d192-401b-9dce-e188ac8d7b66"
      },
      "execution_count": 52,
      "outputs": [
        {
          "output_type": "stream",
          "name": "stdout",
          "text": [
            "Is John in the kitchen ?\n"
          ]
        }
      ]
    },
    {
      "cell_type": "code",
      "source": [
        "print(\"True Test Answer from Data is:\",test_data[0][2])"
      ],
      "metadata": {
        "colab": {
          "base_uri": "https://localhost:8080/"
        },
        "id": "cZEsCq1xDDth",
        "outputId": "d70eb9c2-496d-460e-a1d3-3b1379448b73"
      },
      "execution_count": 53,
      "outputs": [
        {
          "output_type": "stream",
          "name": "stdout",
          "text": [
            "True Test Answer from Data is: no\n"
          ]
        }
      ]
    },
    {
      "cell_type": "code",
      "source": [
        "val_max = np.argmax(pred_results[0])\n",
        "\n",
        "for key, val in tokenizer.word_index.items():\n",
        "    if val == val_max:\n",
        "        k = key\n",
        "\n",
        "print(\"Predicted answer is: \", k)\n",
        "print(\"Probability of certainty was: \", pred_results[0][val_max])"
      ],
      "metadata": {
        "id": "myjBlWJgDUcm",
        "outputId": "6cd8d93a-888e-4d46-db75-350ceb1f4e6e",
        "colab": {
          "base_uri": "https://localhost:8080/"
        }
      },
      "execution_count": 54,
      "outputs": [
        {
          "output_type": "stream",
          "name": "stdout",
          "text": [
            "Predicted answer is:  no\n",
            "Probability of certainty was:  0.99999374\n"
          ]
        }
      ]
    },
    {
      "cell_type": "code",
      "source": [
        "# Testing the model using own story\n",
        "\n",
        "my_story = \" Mary took the apple . Mary went to the hallway . John picked up the football . Daniel went to the garden .\"\n",
        "my_question = \"Is apple in the garden ?\"\n",
        "mydata = [(my_story.split(),my_question.split(),'no')]\n",
        "my_story,my_ques,my_ans = vectorize_stories(mydata)\n",
        "\n",
        "pred_results = model.predict(([ my_story, my_ques]))"
      ],
      "metadata": {
        "id": "iL89NkZGDXFI",
        "colab": {
          "base_uri": "https://localhost:8080/"
        },
        "outputId": "80275f08-4509-4cea-ba03-904005eb4366"
      },
      "execution_count": 60,
      "outputs": [
        {
          "output_type": "stream",
          "name": "stdout",
          "text": [
            "1/1 [==============================] - 0s 493ms/step\n"
          ]
        }
      ]
    },
    {
      "cell_type": "code",
      "source": [
        "val_max = np.argmax(pred_results[0])\n",
        "\n",
        "for key, val in tokenizer.word_index.items():\n",
        "    if val == val_max:\n",
        "        k = key\n",
        "\n",
        "print(\"Predicted answer is: \", k)\n",
        "print(\"Probability of certainty was: \", pred_results[0][val_max])"
      ],
      "metadata": {
        "colab": {
          "base_uri": "https://localhost:8080/"
        },
        "id": "vvBCEXNqa7T7",
        "outputId": "bb5b5412-8d45-464f-d18c-b4b1996d234d"
      },
      "execution_count": 61,
      "outputs": [
        {
          "output_type": "stream",
          "name": "stdout",
          "text": [
            "Predicted answer is:  no\n",
            "Probability of certainty was:  0.71181506\n"
          ]
        }
      ]
    }
  ]
}